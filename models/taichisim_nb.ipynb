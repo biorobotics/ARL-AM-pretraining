{
 "cells": [
  {
   "cell_type": "code",
   "execution_count": 2,
   "id": "ddf5b80e-57ba-4c42-9f0f-62d4de6f8f9f",
   "metadata": {},
   "outputs": [],
   "source": [
    "import tensorflow as tf\n",
    "import numpy as np\n",
    "import tensorflow_datasets as tfds\n",
    "import matplotlib.pyplot as plt\n",
    "\n",
    "import matplotlib\n",
    "%matplotlib inline\n",
    "\n",
    "matplotlib.rcParams['font.size'] = 20\n",
    "matplotlib.rcParams['figure.figsize'] = (14,9)\n",
    "matplotlib.rcParams['savefig.bbox'] = 'tight'"
   ]
  },
  {
   "cell_type": "code",
   "execution_count": 65,
   "id": "e1735936-7cf4-42b9-baa8-862ed3483f44",
   "metadata": {},
   "outputs": [
    {
     "data": {
      "text/plain": [
       "<module 'resnet' from '/Users/albertxu/AI4AM/models/resnet.py'>"
      ]
     },
     "execution_count": 65,
     "metadata": {},
     "output_type": "execute_result"
    }
   ],
   "source": [
    "import importlib\n",
    "importlib.reload(resnet)"
   ]
  },
  {
   "cell_type": "code",
   "execution_count": 6,
   "id": "b0072226-ec90-428a-9cf6-d70f298ce444",
   "metadata": {},
   "outputs": [],
   "source": [
    "import tensorflow as tf\n",
    "import numpy as np\n",
    "import tensorflow_datasets as tfds\n",
    "import pickle\n",
    "import resnet\n",
    "\n",
    "import taichiUtil"
   ]
  },
  {
   "cell_type": "code",
   "execution_count": 117,
   "id": "2132729b-a98f-4def-92fd-1f335e649a42",
   "metadata": {},
   "outputs": [],
   "source": [
    "def preprocess(ex):\n",
    "    ex['image'] = tf.image.resize(tf.image.convert_image_dtype(ex['image'], tf.float32), [250, 250])\n",
    "    return ex\n",
    "\n",
    "def pred(ex):\n",
    "    return (ex['n_seq'] % 10 == 0)\n"
   ]
  },
  {
   "cell_type": "code",
   "execution_count": 120,
   "id": "4535ee39-995c-426b-bcfa-5ef9c0d7ab2e",
   "metadata": {},
   "outputs": [],
   "source": [
    "train = tfds.load('taichiSim', split='train').map(preprocess).filter(flter).batch(10)"
   ]
  },
  {
   "cell_type": "code",
   "execution_count": 126,
   "id": "b18e8746-1f58-4acb-b9ae-3d6103fb58d3",
   "metadata": {},
   "outputs": [
    {
     "data": {
      "text/plain": [
       "<tensorflow.python.data.ops.dataset_ops._NumpyIterator at 0x15d887ac0>"
      ]
     },
     "execution_count": 126,
     "metadata": {},
     "output_type": "execute_result"
    }
   ],
   "source": [
    "train.as_numpy_iterator()"
   ]
  },
  {
   "cell_type": "code",
   "execution_count": 116,
   "id": "8ba21d2a-81ac-4f2b-b2a6-cd34f9b817c2",
   "metadata": {},
   "outputs": [
    {
     "data": {
      "text/plain": [
       "<tf.Tensor: shape=(20,), dtype=bool, numpy=\n",
       "array([False, False, False, False, False, False, False, False, False,\n",
       "       False, False, False, False, False, False, False, False, False,\n",
       "        True, False])>"
      ]
     },
     "execution_count": 116,
     "metadata": {},
     "output_type": "execute_result"
    }
   ],
   "source": [
    "z['n_seq'] % 10 == 0"
   ]
  },
  {
   "cell_type": "code",
   "execution_count": 107,
   "id": "d43de43b-a06b-4efe-846e-1a2f9984bc1e",
   "metadata": {},
   "outputs": [],
   "source": [
    "for z in train:\n",
    "    break"
   ]
  },
  {
   "cell_type": "code",
   "execution_count": 109,
   "id": "052fa38b-51aa-4455-9cac-ce8096314e43",
   "metadata": {},
   "outputs": [
    {
     "data": {
      "text/plain": [
       "<tf.Tensor: shape=(20,), dtype=float32, numpy=\n",
       "array([0.21091919, 0.23315436, 0.3898561 , 0.46161216, 0.42456526,\n",
       "       0.36879563, 0.4296146 , 0.3775429 , 0.21344475, 0.38494688,\n",
       "       0.4292607 , 0.25382555, 0.34540907, 0.30966866, 0.23245691,\n",
       "       0.453043  , 0.48114288, 0.3796794 , 0.24854463, 0.45958525],\n",
       "      dtype=float32)>"
      ]
     },
     "execution_count": 109,
     "metadata": {},
     "output_type": "execute_result"
    }
   ],
   "source": [
    "z['ex_scale']"
   ]
  },
  {
   "cell_type": "code",
   "execution_count": 104,
   "id": "ab89d784-fb51-4cad-b020-1165f6d884ba",
   "metadata": {},
   "outputs": [
    {
     "ename": "TypeError",
     "evalue": "Scalar tensor has no `len()`",
     "output_type": "error",
     "traceback": [
      "\u001b[0;31m---------------------------------------------------------------------------\u001b[0m",
      "\u001b[0;31mTypeError\u001b[0m                                 Traceback (most recent call last)",
      "\u001b[0;32m/var/folders/g7/85rmgp356tb3k172104gjdp80000gn/T/ipykernel_87409/2570628843.py\u001b[0m in \u001b[0;36m<module>\u001b[0;34m\u001b[0m\n\u001b[0;32m----> 1\u001b[0;31m \u001b[0mtaichiUtil\u001b[0m\u001b[0;34m.\u001b[0m\u001b[0mdat2vec\u001b[0m\u001b[0;34m(\u001b[0m\u001b[0mz\u001b[0m\u001b[0;34m)\u001b[0m\u001b[0;34m\u001b[0m\u001b[0;34m\u001b[0m\u001b[0m\n\u001b[0m",
      "\u001b[0;32m~/AI4AM/models/taichiUtil.py\u001b[0m in \u001b[0;36mdat2vec\u001b[0;34m(z)\u001b[0m\n\u001b[1;32m      3\u001b[0m \u001b[0;31m# Transforms 'control vector' into a [-1, 1] random uniform vector. (non-random params are 0)\u001b[0m\u001b[0;34m\u001b[0m\u001b[0;34m\u001b[0m\u001b[0;34m\u001b[0m\u001b[0m\n\u001b[1;32m      4\u001b[0m \u001b[0;32mdef\u001b[0m \u001b[0mdat2vec\u001b[0m\u001b[0;34m(\u001b[0m\u001b[0mz\u001b[0m\u001b[0;34m)\u001b[0m\u001b[0;34m:\u001b[0m\u001b[0;34m\u001b[0m\u001b[0;34m\u001b[0m\u001b[0m\n\u001b[0;32m----> 5\u001b[0;31m     \u001b[0mx\u001b[0m \u001b[0;34m=\u001b[0m \u001b[0mnp\u001b[0m\u001b[0;34m.\u001b[0m\u001b[0mzeros\u001b[0m\u001b[0;34m(\u001b[0m \u001b[0;34m[\u001b[0m\u001b[0;36m13\u001b[0m\u001b[0;34m,\u001b[0m \u001b[0mlen\u001b[0m\u001b[0;34m(\u001b[0m\u001b[0mz\u001b[0m\u001b[0;34m[\u001b[0m\u001b[0;34m'ex_scale'\u001b[0m\u001b[0;34m]\u001b[0m\u001b[0;34m)\u001b[0m\u001b[0;34m]\u001b[0m \u001b[0;34m)\u001b[0m\u001b[0;34m\u001b[0m\u001b[0;34m\u001b[0m\u001b[0m\n\u001b[0m\u001b[1;32m      6\u001b[0m     \u001b[0mx\u001b[0m\u001b[0;34m[\u001b[0m\u001b[0;36m0\u001b[0m\u001b[0;34m]\u001b[0m \u001b[0;34m=\u001b[0m \u001b[0;34m(\u001b[0m\u001b[0mz\u001b[0m\u001b[0;34m[\u001b[0m\u001b[0;34m'ex_scale'\u001b[0m\u001b[0;34m]\u001b[0m \u001b[0;34m-\u001b[0m \u001b[0;36m.35\u001b[0m\u001b[0;34m)\u001b[0m \u001b[0;34m/\u001b[0m \u001b[0;36m.15\u001b[0m\u001b[0;34m\u001b[0m\u001b[0;34m\u001b[0m\u001b[0m\n\u001b[1;32m      7\u001b[0m     \u001b[0msgn\u001b[0m \u001b[0;34m=\u001b[0m \u001b[0mnp\u001b[0m\u001b[0;34m.\u001b[0m\u001b[0msign\u001b[0m\u001b[0;34m(\u001b[0m\u001b[0mz\u001b[0m\u001b[0;34m[\u001b[0m\u001b[0;34m'ex_v0'\u001b[0m\u001b[0;34m]\u001b[0m\u001b[0;34m)\u001b[0m\u001b[0;34m\u001b[0m\u001b[0;34m\u001b[0m\u001b[0m\n",
      "\u001b[0;32m~/.pyenv/versions/3.9.5/envs/tf/lib/python3.9/site-packages/tensorflow/python/framework/ops.py\u001b[0m in \u001b[0;36m__len__\u001b[0;34m(self)\u001b[0m\n\u001b[1;32m   1043\u001b[0m     \u001b[0;34m\"\"\"Returns the length of the first dimension in the Tensor.\"\"\"\u001b[0m\u001b[0;34m\u001b[0m\u001b[0;34m\u001b[0m\u001b[0m\n\u001b[1;32m   1044\u001b[0m     \u001b[0;32mif\u001b[0m \u001b[0;32mnot\u001b[0m \u001b[0mself\u001b[0m\u001b[0;34m.\u001b[0m\u001b[0mshape\u001b[0m\u001b[0;34m.\u001b[0m\u001b[0mndims\u001b[0m\u001b[0;34m:\u001b[0m\u001b[0;34m\u001b[0m\u001b[0;34m\u001b[0m\u001b[0m\n\u001b[0;32m-> 1045\u001b[0;31m       \u001b[0;32mraise\u001b[0m \u001b[0mTypeError\u001b[0m\u001b[0;34m(\u001b[0m\u001b[0;34m\"Scalar tensor has no `len()`\"\u001b[0m\u001b[0;34m)\u001b[0m\u001b[0;34m\u001b[0m\u001b[0;34m\u001b[0m\u001b[0m\n\u001b[0m\u001b[1;32m   1046\u001b[0m     \u001b[0;31m# pylint: disable=protected-access\u001b[0m\u001b[0;34m\u001b[0m\u001b[0;34m\u001b[0m\u001b[0;34m\u001b[0m\u001b[0m\n\u001b[1;32m   1047\u001b[0m     \u001b[0;32mtry\u001b[0m\u001b[0;34m:\u001b[0m\u001b[0;34m\u001b[0m\u001b[0;34m\u001b[0m\u001b[0m\n",
      "\u001b[0;31mTypeError\u001b[0m: Scalar tensor has no `len()`"
     ]
    }
   ],
   "source": [
    "taichiUtil.dat2vec(z)"
   ]
  },
  {
   "cell_type": "code",
   "execution_count": 14,
   "id": "6bcc7ba3-5c8f-4e37-b81f-bf0aa2fc4f8b",
   "metadata": {},
   "outputs": [],
   "source": [
    "batch_size = 10\n",
    "vals_ds = tfds.load('taichiSim', split=[\n",
    "    tfds.core.ReadInstruction('tmp', from_=k, to=k+10, unit='%')\n",
    "    for k in range(0, 100, 10)], batch_size=batch_size)\n",
    "trains_ds = tfds.load('taichiSim', split=[\n",
    "    (tfds.core.ReadInstruction('tmp', to=k, unit='%') +\n",
    "     tfds.core.ReadInstruction('tmp', from_=k+10, unit='%'))\n",
    "    for k in range(0, 100, 10)], batch_size=batch_size)"
   ]
  },
  {
   "cell_type": "code",
   "execution_count": 153,
   "id": "4028d418-a7d5-473c-9b00-e0c9af915eac",
   "metadata": {},
   "outputs": [],
   "source": [
    "class MyMo(tf.keras.Model):\n",
    "    def __init__(self, im_head, n_class=4):\n",
    "        super(MyMo, self).__init__()\n",
    "        \n",
    "        self.im_head = im_head\n",
    "        self.fc1 = tf.keras.layers.Dense(units=n_class, activation=tf.keras.activations.softmax)\n",
    "#         self.fc2 = tf.keras.layers.Dense(units=n_class, activation=tf.keras.activations.softmax)\n",
    "\n",
    "#     def call(self, inputs, training=None):\n",
    "    def call(self, im, uvec, training=None):\n",
    "#         im, uvec = inputs\n",
    "        x = self.im_head(im, training=training)\n",
    "        x = tf.concat([x, uvec], axis=-1)\n",
    "        out = self.fc1(x, training=training)\n",
    "        return out\n",
    "        "
   ]
  },
  {
   "cell_type": "code",
   "execution_count": 154,
   "id": "9c7e2b82-4208-4fc7-b4a7-27209cb98e18",
   "metadata": {},
   "outputs": [],
   "source": [
    "resn = resnet.resnet_18(drop_p=0, n_class=2048)\n",
    "model = MyMo(resn, n_class=2)\n",
    "objective = tf.keras.losses.SparseCategoricalCrossentropy(from_logits=True)\n",
    "optimizer = tf.keras.optimizers.SGD(learning_rate=0.0001)"
   ]
  },
  {
   "cell_type": "code",
   "execution_count": 82,
   "id": "b5d45cdd-1af3-4857-aa71-995fe0d1f46e",
   "metadata": {},
   "outputs": [],
   "source": [
    "def loss(m, x, y, _train=True):\n",
    "    _y = m(x, training=_train)\n",
    "    return objective(y_true=y, y_pred=_y)\n",
    "\n",
    "def grad(model, inputs, targets):\n",
    "    with tf.GradientTape() as tape:\n",
    "        loss_value = loss(model, inputs, targets, _train=True)\n",
    "        return loss_value, tape.gradient(loss_value, model.trainable_variables)"
   ]
  },
  {
   "cell_type": "code",
   "execution_count": 83,
   "id": "876730b8-5148-4a8b-81f0-2d21e39aa792",
   "metadata": {},
   "outputs": [],
   "source": [
    "train_losses = []\n",
    "train_accs = []\n",
    "test_losses = []\n",
    "test_accs = []"
   ]
  },
  {
   "cell_type": "code",
   "execution_count": 155,
   "id": "502d62a4-395c-4488-8ae1-0c1ef11fd23d",
   "metadata": {},
   "outputs": [
    {
     "data": {
      "text/plain": [
       "<tf.Tensor: shape=(10, 2), dtype=float32, numpy=\n",
       "array([[0.46993318, 0.5300668 ],\n",
       "       [0.49032217, 0.5096779 ],\n",
       "       [0.4872703 , 0.51272964],\n",
       "       [0.5056    , 0.49440008],\n",
       "       [0.48715752, 0.5128424 ],\n",
       "       [0.49752817, 0.50247186],\n",
       "       [0.5255966 , 0.47440338],\n",
       "       [0.50974506, 0.49025497],\n",
       "       [0.510732  , 0.489268  ],\n",
       "       [0.5020897 , 0.49791026]], dtype=float32)>"
      ]
     },
     "execution_count": 155,
     "metadata": {},
     "output_type": "execute_result"
    }
   ],
   "source": [
    "for x in train:\n",
    "    break\n",
    "model(x['image'], taichiUtil.dat2vec(x))"
   ]
  },
  {
   "cell_type": "code",
   "execution_count": 147,
   "id": "b0496133-c81c-41a7-91e8-7a1a53b9df4e",
   "metadata": {},
   "outputs": [],
   "source": [
    "a = model.im_head(x['image'])\n",
    "b = taichiUtil.dat2vec(x)"
   ]
  },
  {
   "cell_type": "code",
   "execution_count": 152,
   "id": "47649211-b9b5-46aa-a501-a88b822a1cea",
   "metadata": {},
   "outputs": [
    {
     "data": {
      "text/plain": [
       "<tf.Tensor: shape=(10, 2061), dtype=float32, numpy=\n",
       "array([[ 5.2245375e-04,  4.8988278e-04,  5.0078891e-04, ...,\n",
       "         5.8630836e-01,  0.0000000e+00, -3.3652925e-01],\n",
       "       [ 5.2293635e-04,  4.8946624e-04,  5.0087686e-04, ...,\n",
       "        -2.0492473e-01,  0.0000000e+00,  1.5815520e-01],\n",
       "       [ 5.2124937e-04,  4.8952823e-04,  5.0065818e-04, ...,\n",
       "        -6.2110686e-01,  0.0000000e+00,  9.4827080e-01],\n",
       "       ...,\n",
       "       [ 5.2165560e-04,  4.8970233e-04,  5.0077878e-04, ...,\n",
       "        -5.8419704e-01,  0.0000000e+00, -6.0668898e-01],\n",
       "       [ 5.2148494e-04,  4.8914819e-04,  5.0076074e-04, ...,\n",
       "        -3.6132336e-02,  0.0000000e+00,  8.0280352e-01],\n",
       "       [ 5.2131800e-04,  4.8948126e-04,  5.0075003e-04, ...,\n",
       "         3.4572017e-01,  0.0000000e+00,  6.1257815e-01]], dtype=float32)>"
      ]
     },
     "execution_count": 152,
     "metadata": {},
     "output_type": "execute_result"
    }
   ],
   "source": [
    "tf.concat([a, b], axis=-1)"
   ]
  },
  {
   "cell_type": "code",
   "execution_count": 143,
   "id": "1c2ffdd5-99b5-44eb-b0c6-3365f72caea6",
   "metadata": {},
   "outputs": [
    {
     "ename": "ValueError",
     "evalue": "Shape (10, 13) must have rank 0",
     "output_type": "error",
     "traceback": [
      "\u001b[0;31m---------------------------------------------------------------------------\u001b[0m",
      "\u001b[0;31mValueError\u001b[0m                                Traceback (most recent call last)",
      "\u001b[0;32m/var/folders/g7/85rmgp356tb3k172104gjdp80000gn/T/ipykernel_87409/3463567874.py\u001b[0m in \u001b[0;36m<module>\u001b[0;34m\u001b[0m\n\u001b[0;32m----> 1\u001b[0;31m \u001b[0mmodel\u001b[0m\u001b[0;34m(\u001b[0m\u001b[0;34m*\u001b[0m\u001b[0minp\u001b[0m\u001b[0;34m)\u001b[0m\u001b[0;34m\u001b[0m\u001b[0;34m\u001b[0m\u001b[0m\n\u001b[0m",
      "\u001b[0;32m~/.pyenv/versions/3.9.5/envs/tf/lib/python3.9/site-packages/tensorflow/python/keras/engine/base_layer.py\u001b[0m in \u001b[0;36m__call__\u001b[0;34m(self, *args, **kwargs)\u001b[0m\n\u001b[1;32m   1028\u001b[0m         with autocast_variable.enable_auto_cast_variables(\n\u001b[1;32m   1029\u001b[0m             self._compute_dtype_object):\n\u001b[0;32m-> 1030\u001b[0;31m           \u001b[0moutputs\u001b[0m \u001b[0;34m=\u001b[0m \u001b[0mcall_fn\u001b[0m\u001b[0;34m(\u001b[0m\u001b[0minputs\u001b[0m\u001b[0;34m,\u001b[0m \u001b[0;34m*\u001b[0m\u001b[0margs\u001b[0m\u001b[0;34m,\u001b[0m \u001b[0;34m**\u001b[0m\u001b[0mkwargs\u001b[0m\u001b[0;34m)\u001b[0m\u001b[0;34m\u001b[0m\u001b[0;34m\u001b[0m\u001b[0m\n\u001b[0m\u001b[1;32m   1031\u001b[0m \u001b[0;34m\u001b[0m\u001b[0m\n\u001b[1;32m   1032\u001b[0m         \u001b[0;32mif\u001b[0m \u001b[0mself\u001b[0m\u001b[0;34m.\u001b[0m\u001b[0m_activity_regularizer\u001b[0m\u001b[0;34m:\u001b[0m\u001b[0;34m\u001b[0m\u001b[0;34m\u001b[0m\u001b[0m\n",
      "\u001b[0;32m/var/folders/g7/85rmgp356tb3k172104gjdp80000gn/T/ipykernel_87409/731910500.py\u001b[0m in \u001b[0;36mcall\u001b[0;34m(self, im, uvec, training)\u001b[0m\n\u001b[1;32m     11\u001b[0m \u001b[0;31m#         im, uvec = inputs\u001b[0m\u001b[0;34m\u001b[0m\u001b[0;34m\u001b[0m\u001b[0;34m\u001b[0m\u001b[0m\n\u001b[1;32m     12\u001b[0m         \u001b[0mx\u001b[0m \u001b[0;34m=\u001b[0m \u001b[0mself\u001b[0m\u001b[0;34m.\u001b[0m\u001b[0mim_head\u001b[0m\u001b[0;34m(\u001b[0m\u001b[0mim\u001b[0m\u001b[0;34m,\u001b[0m \u001b[0mtraining\u001b[0m\u001b[0;34m=\u001b[0m\u001b[0mtraining\u001b[0m\u001b[0;34m)\u001b[0m\u001b[0;34m\u001b[0m\u001b[0;34m\u001b[0m\u001b[0m\n\u001b[0;32m---> 13\u001b[0;31m         \u001b[0mx\u001b[0m \u001b[0;34m=\u001b[0m \u001b[0mtf\u001b[0m\u001b[0;34m.\u001b[0m\u001b[0mconcat\u001b[0m\u001b[0;34m(\u001b[0m\u001b[0mx\u001b[0m\u001b[0;34m,\u001b[0m \u001b[0muvec\u001b[0m\u001b[0;34m)\u001b[0m\u001b[0;34m\u001b[0m\u001b[0;34m\u001b[0m\u001b[0m\n\u001b[0m\u001b[1;32m     14\u001b[0m         \u001b[0mout\u001b[0m \u001b[0;34m=\u001b[0m \u001b[0mself\u001b[0m\u001b[0;34m.\u001b[0m\u001b[0mfc1\u001b[0m\u001b[0;34m(\u001b[0m\u001b[0mx\u001b[0m\u001b[0;34m,\u001b[0m \u001b[0mtraining\u001b[0m\u001b[0;34m=\u001b[0m\u001b[0mtraining\u001b[0m\u001b[0;34m)\u001b[0m\u001b[0;34m\u001b[0m\u001b[0;34m\u001b[0m\u001b[0m\n\u001b[1;32m     15\u001b[0m         \u001b[0;32mreturn\u001b[0m \u001b[0mout\u001b[0m\u001b[0;34m\u001b[0m\u001b[0;34m\u001b[0m\u001b[0m\n",
      "\u001b[0;32m~/.pyenv/versions/3.9.5/envs/tf/lib/python3.9/site-packages/tensorflow/python/util/dispatch.py\u001b[0m in \u001b[0;36mwrapper\u001b[0;34m(*args, **kwargs)\u001b[0m\n\u001b[1;32m    204\u001b[0m     \u001b[0;34m\"\"\"Call target, and fall back on dispatchers if there is a TypeError.\"\"\"\u001b[0m\u001b[0;34m\u001b[0m\u001b[0;34m\u001b[0m\u001b[0m\n\u001b[1;32m    205\u001b[0m     \u001b[0;32mtry\u001b[0m\u001b[0;34m:\u001b[0m\u001b[0;34m\u001b[0m\u001b[0;34m\u001b[0m\u001b[0m\n\u001b[0;32m--> 206\u001b[0;31m       \u001b[0;32mreturn\u001b[0m \u001b[0mtarget\u001b[0m\u001b[0;34m(\u001b[0m\u001b[0;34m*\u001b[0m\u001b[0margs\u001b[0m\u001b[0;34m,\u001b[0m \u001b[0;34m**\u001b[0m\u001b[0mkwargs\u001b[0m\u001b[0;34m)\u001b[0m\u001b[0;34m\u001b[0m\u001b[0;34m\u001b[0m\u001b[0m\n\u001b[0m\u001b[1;32m    207\u001b[0m     \u001b[0;32mexcept\u001b[0m \u001b[0;34m(\u001b[0m\u001b[0mTypeError\u001b[0m\u001b[0;34m,\u001b[0m \u001b[0mValueError\u001b[0m\u001b[0;34m)\u001b[0m\u001b[0;34m:\u001b[0m\u001b[0;34m\u001b[0m\u001b[0;34m\u001b[0m\u001b[0m\n\u001b[1;32m    208\u001b[0m       \u001b[0;31m# Note: convert_to_eager_tensor currently raises a ValueError, not a\u001b[0m\u001b[0;34m\u001b[0m\u001b[0;34m\u001b[0m\u001b[0;34m\u001b[0m\u001b[0m\n",
      "\u001b[0;32m~/.pyenv/versions/3.9.5/envs/tf/lib/python3.9/site-packages/tensorflow/python/ops/array_ops.py\u001b[0m in \u001b[0;36mconcat\u001b[0;34m(values, axis, name)\u001b[0m\n\u001b[1;32m   1762\u001b[0m     \u001b[0;31m# TODO(keveman): Implement a standalone type and shape checker.\u001b[0m\u001b[0;34m\u001b[0m\u001b[0;34m\u001b[0m\u001b[0;34m\u001b[0m\u001b[0m\n\u001b[1;32m   1763\u001b[0m     \u001b[0;32mwith\u001b[0m \u001b[0mops\u001b[0m\u001b[0;34m.\u001b[0m\u001b[0mname_scope\u001b[0m\u001b[0;34m(\u001b[0m\u001b[0mname\u001b[0m\u001b[0;34m)\u001b[0m \u001b[0;32mas\u001b[0m \u001b[0mscope\u001b[0m\u001b[0;34m:\u001b[0m\u001b[0;34m\u001b[0m\u001b[0;34m\u001b[0m\u001b[0m\n\u001b[0;32m-> 1764\u001b[0;31m       ops.convert_to_tensor(\n\u001b[0m\u001b[1;32m   1765\u001b[0m           \u001b[0maxis\u001b[0m\u001b[0;34m,\u001b[0m \u001b[0mname\u001b[0m\u001b[0;34m=\u001b[0m\u001b[0;34m\"concat_dim\"\u001b[0m\u001b[0;34m,\u001b[0m\u001b[0;34m\u001b[0m\u001b[0;34m\u001b[0m\u001b[0m\n\u001b[1;32m   1766\u001b[0m           dtype=dtypes.int32).get_shape().assert_has_rank(0)\n",
      "\u001b[0;32m~/.pyenv/versions/3.9.5/envs/tf/lib/python3.9/site-packages/tensorflow/python/framework/tensor_shape.py\u001b[0m in \u001b[0;36massert_has_rank\u001b[0;34m(self, rank)\u001b[0m\n\u001b[1;32m   1039\u001b[0m     \"\"\"\n\u001b[1;32m   1040\u001b[0m     \u001b[0;32mif\u001b[0m \u001b[0mself\u001b[0m\u001b[0;34m.\u001b[0m\u001b[0mrank\u001b[0m \u001b[0;32mnot\u001b[0m \u001b[0;32min\u001b[0m \u001b[0;34m(\u001b[0m\u001b[0;32mNone\u001b[0m\u001b[0;34m,\u001b[0m \u001b[0mrank\u001b[0m\u001b[0;34m)\u001b[0m\u001b[0;34m:\u001b[0m\u001b[0;34m\u001b[0m\u001b[0;34m\u001b[0m\u001b[0m\n\u001b[0;32m-> 1041\u001b[0;31m       \u001b[0;32mraise\u001b[0m \u001b[0mValueError\u001b[0m\u001b[0;34m(\u001b[0m\u001b[0;34m\"Shape %s must have rank %d\"\u001b[0m \u001b[0;34m%\u001b[0m \u001b[0;34m(\u001b[0m\u001b[0mself\u001b[0m\u001b[0;34m,\u001b[0m \u001b[0mrank\u001b[0m\u001b[0;34m)\u001b[0m\u001b[0;34m)\u001b[0m\u001b[0;34m\u001b[0m\u001b[0;34m\u001b[0m\u001b[0m\n\u001b[0m\u001b[1;32m   1042\u001b[0m \u001b[0;34m\u001b[0m\u001b[0m\n\u001b[1;32m   1043\u001b[0m   \u001b[0;32mdef\u001b[0m \u001b[0mwith_rank\u001b[0m\u001b[0;34m(\u001b[0m\u001b[0mself\u001b[0m\u001b[0;34m,\u001b[0m \u001b[0mrank\u001b[0m\u001b[0;34m)\u001b[0m\u001b[0;34m:\u001b[0m\u001b[0;34m\u001b[0m\u001b[0;34m\u001b[0m\u001b[0m\n",
      "\u001b[0;31mValueError\u001b[0m: Shape (10, 13) must have rank 0"
     ]
    }
   ],
   "source": [
    "model(*inp)"
   ]
  },
  {
   "cell_type": "code",
   "execution_count": 84,
   "id": "e5034226-8ea0-42b0-9084-1209b8b07044",
   "metadata": {},
   "outputs": [],
   "source": [
    "train = trains_ds[0]\n",
    "val = vals_ds[0]"
   ]
  },
  {
   "cell_type": "code",
   "execution_count": null,
   "id": "817d99b3-e326-49dd-8b3d-bef6f0b4ece9",
   "metadata": {},
   "outputs": [],
   "source": [
    "# Training loop\n",
    "n_epoch = 500\n",
    "for epoch in range(n_epoch):\n",
    "    epoch_loss_avg = tf.keras.metrics.Mean()\n",
    "    epoch_accuracy = tf.keras.metrics.SparseCategoricalAccuracy()\n",
    "    test_epoch_loss_avg = tf.keras.metrics.Mean()\n",
    "    test_epoch_accuracy = tf.keras.metrics.SparseCategoricalAccuracy()\n",
    "    \n",
    "    train2 = train.shuffle(buffer_size=50)\n",
    "    for ex in train2:\n",
    "        x = tf.image.convert_image_dtype(ex['image'], tf.float32)\n",
    "        ys = taichiUtil.dat2vec(ex)\n",
    "        # class_encode = tf.reshape(tf.one_hot((ys[:,3:7] > 0).astype(int), 2), (-1, 8))\n",
    "        y = (ys[:,3] > 0).astype(int)\n",
    "        l, grads = grad(model, x, y)\n",
    "\n",
    "        optimizer.apply_gradients(zip(grads, model.trainable_variables))\n",
    "        epoch_loss_avg.update_state(l)\n",
    "        epoch_accuracy.update_state(y, model(x, training=True))\n",
    "    \n",
    "    print(f'Epoch {epoch:03d}, Train Loss: {epoch_loss_avg.result():.3f}, Acc: {epoch_accuracy.result():.3f}')\n"
   ]
  },
  {
   "cell_type": "code",
   "execution_count": 94,
   "id": "38db6334-6d5d-47f9-8a99-54759c9300ee",
   "metadata": {},
   "outputs": [
    {
     "data": {
      "text/plain": [
       "13"
      ]
     },
     "execution_count": 94,
     "metadata": {},
     "output_type": "execute_result"
    }
   ],
   "source": []
  },
  {
   "cell_type": "code",
   "execution_count": null,
   "id": "c0b75e68-6e7b-4461-b42f-f4f087eb402c",
   "metadata": {},
   "outputs": [],
   "source": []
  }
 ],
 "metadata": {
  "kernelspec": {
   "display_name": "Python 3 (ipykernel)",
   "language": "python",
   "name": "python3"
  },
  "language_info": {
   "codemirror_mode": {
    "name": "ipython",
    "version": 3
   },
   "file_extension": ".py",
   "mimetype": "text/x-python",
   "name": "python",
   "nbconvert_exporter": "python",
   "pygments_lexer": "ipython3",
   "version": "3.9.5"
  }
 },
 "nbformat": 4,
 "nbformat_minor": 5
}
