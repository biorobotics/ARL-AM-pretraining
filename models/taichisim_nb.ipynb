{
 "cells": [
  {
   "cell_type": "code",
   "execution_count": 2,
   "id": "ddf5b80e-57ba-4c42-9f0f-62d4de6f8f9f",
   "metadata": {},
   "outputs": [],
   "source": [
    "import tensorflow as tf\n",
    "import numpy as np\n",
    "import tensorflow_datasets as tfds\n",
    "import matplotlib.pyplot as plt\n",
    "\n",
    "import matplotlib\n",
    "%matplotlib inline\n",
    "\n",
    "matplotlib.rcParams['font.size'] = 20\n",
    "matplotlib.rcParams['figure.figsize'] = (14,9)\n",
    "matplotlib.rcParams['savefig.bbox'] = 'tight'"
   ]
  },
  {
   "cell_type": "code",
   "execution_count": 65,
   "id": "e1735936-7cf4-42b9-baa8-862ed3483f44",
   "metadata": {},
   "outputs": [
    {
     "data": {
      "text/plain": [
       "<module 'resnet' from '/Users/albertxu/AI4AM/models/resnet.py'>"
      ]
     },
     "execution_count": 65,
     "metadata": {},
     "output_type": "execute_result"
    }
   ],
   "source": [
    "import importlib\n",
    "importlib.reload(resnet)"
   ]
  },
  {
   "cell_type": "code",
   "execution_count": 6,
   "id": "b0072226-ec90-428a-9cf6-d70f298ce444",
   "metadata": {},
   "outputs": [],
   "source": [
    "import tensorflow as tf\n",
    "import numpy as np\n",
    "import tensorflow_datasets as tfds\n",
    "import pickle\n",
    "import resnet\n",
    "\n",
    "import taichiUtil"
   ]
  },
  {
   "cell_type": "code",
   "execution_count": 14,
   "id": "6bcc7ba3-5c8f-4e37-b81f-bf0aa2fc4f8b",
   "metadata": {},
   "outputs": [],
   "source": [
    "batch_size = 10\n",
    "vals_ds = tfds.load('taichiSim', split=[\n",
    "    tfds.core.ReadInstruction('tmp', from_=k, to=k+10, unit='%')\n",
    "    for k in range(0, 100, 10)], batch_size=batch_size)\n",
    "trains_ds = tfds.load('taichiSim', split=[\n",
    "    (tfds.core.ReadInstruction('tmp', to=k, unit='%') +\n",
    "     tfds.core.ReadInstruction('tmp', from_=k+10, unit='%'))\n",
    "    for k in range(0, 100, 10)], batch_size=batch_size)"
   ]
  },
  {
   "cell_type": "code",
   "execution_count": 81,
   "id": "9c7e2b82-4208-4fc7-b4a7-27209cb98e18",
   "metadata": {},
   "outputs": [],
   "source": [
    "model = resnet.resnet_18(drop_p=0, n_class=2)\n",
    "objective = tf.keras.losses.SparseCategoricalCrossentropy(from_logits=True)\n",
    "optimizer = tf.keras.optimizers.SGD(learning_rate=0.0001)"
   ]
  },
  {
   "cell_type": "code",
   "execution_count": 82,
   "id": "b5d45cdd-1af3-4857-aa71-995fe0d1f46e",
   "metadata": {},
   "outputs": [],
   "source": [
    "def loss(m, x, y, _train=True):\n",
    "    _y = m(x, training=_train)\n",
    "    return objective(y_true=y, y_pred=_y)\n",
    "\n",
    "def grad(model, inputs, targets):\n",
    "    with tf.GradientTape() as tape:\n",
    "        loss_value = loss(model, inputs, targets, _train=True)\n",
    "        return loss_value, tape.gradient(loss_value, model.trainable_variables)"
   ]
  },
  {
   "cell_type": "code",
   "execution_count": 83,
   "id": "876730b8-5148-4a8b-81f0-2d21e39aa792",
   "metadata": {},
   "outputs": [],
   "source": [
    "train_losses = []\n",
    "train_accs = []\n",
    "test_losses = []\n",
    "test_accs = []"
   ]
  },
  {
   "cell_type": "code",
   "execution_count": 84,
   "id": "e5034226-8ea0-42b0-9084-1209b8b07044",
   "metadata": {},
   "outputs": [],
   "source": [
    "train = trains_ds[0]\n",
    "val = vals_ds[0]"
   ]
  },
  {
   "cell_type": "code",
   "execution_count": null,
   "id": "817d99b3-e326-49dd-8b3d-bef6f0b4ece9",
   "metadata": {},
   "outputs": [],
   "source": [
    "# Training loop\n",
    "n_epoch = 500\n",
    "for epoch in range(n_epoch):\n",
    "    epoch_loss_avg = tf.keras.metrics.Mean()\n",
    "    epoch_accuracy = tf.keras.metrics.SparseCategoricalAccuracy()\n",
    "    test_epoch_loss_avg = tf.keras.metrics.Mean()\n",
    "    test_epoch_accuracy = tf.keras.metrics.SparseCategoricalAccuracy()\n",
    "    \n",
    "    train2 = train.shuffle(buffer_size=50)\n",
    "    for ex in train2:\n",
    "        x = tf.image.convert_image_dtype(ex['image'], tf.float32)\n",
    "        ys = taichiUtil.dat2vec(ex)\n",
    "        # class_encode = tf.reshape(tf.one_hot((ys[:,3:7] > 0).astype(int), 2), (-1, 8))\n",
    "        y = (ys[:,3] > 0).astype(int)\n",
    "        l, grads = grad(model, x, y)\n",
    "\n",
    "        optimizer.apply_gradients(zip(grads, model.trainable_variables))\n",
    "        epoch_loss_avg.update_state(l)\n",
    "        epoch_accuracy.update_state(y, model(x, training=True))\n",
    "    \n",
    "    print(f'Epoch {epoch:03d}, Train Loss: {epoch_loss_avg.result():.3f}, Acc: {epoch_accuracy.result():.3f}')\n"
   ]
  },
  {
   "cell_type": "code",
   "execution_count": 94,
   "id": "38db6334-6d5d-47f9-8a99-54759c9300ee",
   "metadata": {},
   "outputs": [
    {
     "data": {
      "text/plain": [
       "13"
      ]
     },
     "execution_count": 94,
     "metadata": {},
     "output_type": "execute_result"
    }
   ],
   "source": []
  },
  {
   "cell_type": "code",
   "execution_count": null,
   "id": "c0b75e68-6e7b-4461-b42f-f4f087eb402c",
   "metadata": {},
   "outputs": [],
   "source": []
  }
 ],
 "metadata": {
  "kernelspec": {
   "display_name": "Python 3 (ipykernel)",
   "language": "python",
   "name": "python3"
  },
  "language_info": {
   "codemirror_mode": {
    "name": "ipython",
    "version": 3
   },
   "file_extension": ".py",
   "mimetype": "text/x-python",
   "name": "python",
   "nbconvert_exporter": "python",
   "pygments_lexer": "ipython3",
   "version": "3.9.5"
  }
 },
 "nbformat": 4,
 "nbformat_minor": 5
}
